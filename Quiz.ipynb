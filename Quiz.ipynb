{
 "cells": [
  {
   "cell_type": "markdown",
   "id": "5759edb2",
   "metadata": {},
   "source": [
    "# Quiz"
   ]
  },
  {
   "cell_type": "code",
   "execution_count": 3,
   "id": "52eec998",
   "metadata": {},
   "outputs": [],
   "source": [
    "import pandas as pd\n",
    "import numpy as np"
   ]
  },
  {
   "cell_type": "code",
   "execution_count": 7,
   "id": "ff9e3b23",
   "metadata": {},
   "outputs": [],
   "source": [
    "#Loading in dataset\n",
    "df = pd.read_csv('data/Portfolios_Formed_on_ME_monthly_EW.csv',\n",
    "                header = 0,\n",
    "                index_col = 0,\n",
    "                parse_dates = True)"
   ]
  },
  {
   "cell_type": "code",
   "execution_count": 11,
   "id": "c2ed5a25",
   "metadata": {},
   "outputs": [],
   "source": [
    "df = df[['Lo 20', 'Hi 20']]\n",
    "df = df / 100\n",
    "df.index = pd.to_datetime(df.index, format = \"%Y%m\").to_period('M')"
   ]
  },
  {
   "cell_type": "code",
   "execution_count": 12,
   "id": "2d3dd97f",
   "metadata": {},
   "outputs": [
    {
     "data": {
      "text/html": [
       "<div>\n",
       "<style scoped>\n",
       "    .dataframe tbody tr th:only-of-type {\n",
       "        vertical-align: middle;\n",
       "    }\n",
       "\n",
       "    .dataframe tbody tr th {\n",
       "        vertical-align: top;\n",
       "    }\n",
       "\n",
       "    .dataframe thead th {\n",
       "        text-align: right;\n",
       "    }\n",
       "</style>\n",
       "<table border=\"1\" class=\"dataframe\">\n",
       "  <thead>\n",
       "    <tr style=\"text-align: right;\">\n",
       "      <th></th>\n",
       "      <th>Lo 20</th>\n",
       "      <th>Hi 20</th>\n",
       "    </tr>\n",
       "  </thead>\n",
       "  <tbody>\n",
       "    <tr>\n",
       "      <th>1926-07</th>\n",
       "      <td>-0.0057</td>\n",
       "      <td>0.0333</td>\n",
       "    </tr>\n",
       "    <tr>\n",
       "      <th>1926-08</th>\n",
       "      <td>0.0384</td>\n",
       "      <td>0.0233</td>\n",
       "    </tr>\n",
       "    <tr>\n",
       "      <th>1926-09</th>\n",
       "      <td>-0.0048</td>\n",
       "      <td>-0.0009</td>\n",
       "    </tr>\n",
       "    <tr>\n",
       "      <th>1926-10</th>\n",
       "      <td>-0.0329</td>\n",
       "      <td>-0.0295</td>\n",
       "    </tr>\n",
       "    <tr>\n",
       "      <th>1926-11</th>\n",
       "      <td>-0.0055</td>\n",
       "      <td>0.0316</td>\n",
       "    </tr>\n",
       "  </tbody>\n",
       "</table>\n",
       "</div>"
      ],
      "text/plain": [
       "          Lo 20   Hi 20\n",
       "1926-07 -0.0057  0.0333\n",
       "1926-08  0.0384  0.0233\n",
       "1926-09 -0.0048 -0.0009\n",
       "1926-10 -0.0329 -0.0295\n",
       "1926-11 -0.0055  0.0316"
      ]
     },
     "execution_count": 12,
     "metadata": {},
     "output_type": "execute_result"
    }
   ],
   "source": [
    "df.head()"
   ]
  },
  {
   "cell_type": "markdown",
   "id": "0074b274",
   "metadata": {},
   "source": [
    "## Question 1, 3\n",
    "What was the Annualized Return of the portfolio over the entire period?"
   ]
  },
  {
   "cell_type": "code",
   "execution_count": 18,
   "id": "45990043",
   "metadata": {},
   "outputs": [
    {
     "data": {
      "text/plain": [
       "Lo 20    0.151977\n",
       "Hi 20    0.098490\n",
       "dtype: float64"
      ]
     },
     "execution_count": 18,
     "metadata": {},
     "output_type": "execute_result"
    }
   ],
   "source": [
    "#calculating volatility and anualized volatilty\n",
    "vol = df[:\"1927\"].std()\n",
    "annualized_vol = vol * np.sqrt(12)\n",
    "\n",
    "#Anualizing Retruns\n",
    "no_of_months = df.shape[0]\n",
    "total_returns = (df+1).prod() -1\n",
    "returns_per_month = (df+1).prod() ** (1/no_of_months) -1\n",
    "\n",
    "#annualized return = (returns +1).prod() ** (no_of_periods/ no_of_months) -1\n",
    "annualized_return = (df + 1).prod() ** (12/no_of_months) -1\n",
    "annualized_return"
   ]
  },
  {
   "cell_type": "markdown",
   "id": "341b1c09",
   "metadata": {},
   "source": [
    "## Question 2, 4\n",
    "What was the Annualized Volatility of the portfolio over the entire period?"
   ]
  },
  {
   "cell_type": "code",
   "execution_count": 15,
   "id": "cb2e6fee",
   "metadata": {},
   "outputs": [
    {
     "data": {
      "text/plain": [
       "Lo 20    0.336701\n",
       "Hi 20    0.195116\n",
       "dtype: float64"
      ]
     },
     "execution_count": 15,
     "metadata": {},
     "output_type": "execute_result"
    }
   ],
   "source": [
    "vol = df.std()\n",
    "annualized_vol = vol * np.sqrt(12)\n",
    "annualized_vol"
   ]
  },
  {
   "cell_type": "markdown",
   "id": "02545e7e",
   "metadata": {},
   "source": [
    "## Question 5\n",
    "What was the Annualized Return of the Lo 20 portfolio over the period 1999 - 2015 (both inclusive)? "
   ]
  },
  {
   "cell_type": "code",
   "execution_count": null,
   "id": "bd535afc",
   "metadata": {},
   "outputs": [],
   "source": []
  }
 ],
 "metadata": {
  "kernelspec": {
   "display_name": "Python 3 (ipykernel)",
   "language": "python",
   "name": "python3"
  },
  "language_info": {
   "codemirror_mode": {
    "name": "ipython",
    "version": 3
   },
   "file_extension": ".py",
   "mimetype": "text/x-python",
   "name": "python",
   "nbconvert_exporter": "python",
   "pygments_lexer": "ipython3",
   "version": "3.9.12"
  }
 },
 "nbformat": 4,
 "nbformat_minor": 5
}
