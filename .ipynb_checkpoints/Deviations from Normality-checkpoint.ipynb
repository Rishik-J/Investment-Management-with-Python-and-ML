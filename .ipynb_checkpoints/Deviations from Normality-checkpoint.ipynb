{
 "cells": [
  {
   "cell_type": "markdown",
   "id": "643a70ad",
   "metadata": {},
   "source": [
    "# Deviations from Normality"
   ]
  },
  {
   "cell_type": "code",
   "execution_count": null,
   "id": "9f47a9b2",
   "metadata": {},
   "outputs": [],
   "source": [
    "%load_ext autoreload\n",
    "%autoreload 2\n",
    "import pandas as pd\n",
    "import QFModule as qf"
   ]
  },
  {
   "cell_type": "code",
   "execution_count": null,
   "id": "1f87133f",
   "metadata": {},
   "outputs": [],
   "source": [
    "df = qf.get_hifi_returns()"
   ]
  },
  {
   "cell_type": "code",
   "execution_count": null,
   "id": "28440ade",
   "metadata": {},
   "outputs": [],
   "source": [
    "df.head()"
   ]
  },
  {
   "cell_type": "markdown",
   "id": "fd6e4c98",
   "metadata": {},
   "source": [
    "# Skewness"
   ]
  },
  {
   "cell_type": "code",
   "execution_count": null,
   "id": "23daff28",
   "metadata": {},
   "outputs": [],
   "source": [
    "#defining skewness fucntion: input is a series or datafram\n",
    "def skewness(r):\n",
    "    demeaned_r = r - r.mean()\n",
    "    volatility = r.std(ddof=0)\n",
    "    sigma_r = volatility\n",
    "    exp = (demeaned_r**3).mean()\n",
    "    return exp/sigma_r**3    "
   ]
  },
  {
   "cell_type": "code",
   "execution_count": null,
   "id": "f2e5f5b4",
   "metadata": {},
   "outputs": [],
   "source": [
    "qf.skewness(df).sort_values()"
   ]
  },
  {
   "cell_type": "code",
   "execution_count": null,
   "id": "ccba755a",
   "metadata": {},
   "outputs": [],
   "source": [
    "import scipy.stats as stats\n"
   ]
  },
  {
   "cell_type": "code",
   "execution_count": null,
   "id": "401c5c60",
   "metadata": {},
   "outputs": [],
   "source": [
    "print(stats.skew(df))"
   ]
  },
  {
   "cell_type": "code",
   "execution_count": null,
   "id": "ec85c8dd",
   "metadata": {},
   "outputs": [],
   "source": [
    "qf.skewness(df)"
   ]
  },
  {
   "cell_type": "markdown",
   "id": "5529eba0",
   "metadata": {},
   "source": [
    "# Kurtosis"
   ]
  },
  {
   "cell_type": "code",
   "execution_count": null,
   "id": "3b56f14d",
   "metadata": {},
   "outputs": [],
   "source": [
    "#defining Kurtosis fucntion: input is a series or datafram\n",
    "def kurtosis(r):\n",
    "    \"\"\"\n",
    "    Alternative to scipy.stats.kurtosis()\n",
    "    computes kurtosis of the supplied dataframe or series (returns float or series)\n",
    "    \"\"\"\n",
    "    demeaned_r = r - r.mean()\n",
    "    volatility = r.std(ddof=0)\n",
    "    sigma_r = volatility\n",
    "    exp = (demeaned_r**4).mean()\n",
    "    return exp/sigma_r**4 "
   ]
  },
  {
   "cell_type": "code",
   "execution_count": null,
   "id": "af0edd73",
   "metadata": {},
   "outputs": [],
   "source": [
    "kurtosis(df)"
   ]
  },
  {
   "cell_type": "code",
   "execution_count": null,
   "id": "96a9c807",
   "metadata": {},
   "outputs": [],
   "source": [
    "stats.kurtosis(df)"
   ]
  },
  {
   "cell_type": "markdown",
   "id": "b650eefd",
   "metadata": {},
   "source": [
    "# Jarque Bera test"
   ]
  },
  {
   "cell_type": "code",
   "execution_count": null,
   "id": "0438e832",
   "metadata": {},
   "outputs": [],
   "source": [
    "stats.jarque_bera(df)"
   ]
  },
  {
   "cell_type": "code",
   "execution_count": null,
   "id": "f877706c",
   "metadata": {},
   "outputs": [],
   "source": []
  }
 ],
 "metadata": {
  "kernelspec": {
   "display_name": "Python 3 (ipykernel)",
   "language": "python",
   "name": "python3"
  },
  "language_info": {
   "codemirror_mode": {
    "name": "ipython",
    "version": 3
   },
   "file_extension": ".py",
   "mimetype": "text/x-python",
   "name": "python",
   "nbconvert_exporter": "python",
   "pygments_lexer": "ipython3",
   "version": "3.9.12"
  }
 },
 "nbformat": 4,
 "nbformat_minor": 5
}
