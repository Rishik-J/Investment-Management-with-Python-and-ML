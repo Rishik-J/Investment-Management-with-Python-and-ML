{
 "cells": [
  {
   "cell_type": "markdown",
   "id": "5759edb2",
   "metadata": {},
   "source": [
    "# Quiz"
   ]
  },
  {
   "cell_type": "code",
   "execution_count": 4,
   "id": "52eec998",
   "metadata": {},
   "outputs": [],
   "source": [
    "import pandas as pd\n",
    "import numpy as np\n",
    "%load_ext autoreload\n",
    "%autoreload 2"
   ]
  },
  {
   "cell_type": "code",
   "execution_count": 7,
   "id": "ff9e3b23",
   "metadata": {},
   "outputs": [],
   "source": [
    "#Loading in dataset\n",
    "df = pd.read_csv('data/Portfolios_Formed_on_ME_monthly_EW.csv',\n",
    "                header = 0,\n",
    "                index_col = 0,\n",
    "                parse_dates = True)"
   ]
  },
  {
   "cell_type": "code",
   "execution_count": 11,
   "id": "c2ed5a25",
   "metadata": {},
   "outputs": [],
   "source": [
    "df = df[['Lo 20', 'Hi 20']]\n",
    "df = df / 100\n",
    "df.index = pd.to_datetime(df.index, format = \"%Y%m\").to_period('M')"
   ]
  },
  {
   "cell_type": "code",
   "execution_count": 12,
   "id": "2d3dd97f",
   "metadata": {},
   "outputs": [
    {
     "data": {
      "text/html": [
       "<div>\n",
       "<style scoped>\n",
       "    .dataframe tbody tr th:only-of-type {\n",
       "        vertical-align: middle;\n",
       "    }\n",
       "\n",
       "    .dataframe tbody tr th {\n",
       "        vertical-align: top;\n",
       "    }\n",
       "\n",
       "    .dataframe thead th {\n",
       "        text-align: right;\n",
       "    }\n",
       "</style>\n",
       "<table border=\"1\" class=\"dataframe\">\n",
       "  <thead>\n",
       "    <tr style=\"text-align: right;\">\n",
       "      <th></th>\n",
       "      <th>Lo 20</th>\n",
       "      <th>Hi 20</th>\n",
       "    </tr>\n",
       "  </thead>\n",
       "  <tbody>\n",
       "    <tr>\n",
       "      <th>1926-07</th>\n",
       "      <td>-0.0057</td>\n",
       "      <td>0.0333</td>\n",
       "    </tr>\n",
       "    <tr>\n",
       "      <th>1926-08</th>\n",
       "      <td>0.0384</td>\n",
       "      <td>0.0233</td>\n",
       "    </tr>\n",
       "    <tr>\n",
       "      <th>1926-09</th>\n",
       "      <td>-0.0048</td>\n",
       "      <td>-0.0009</td>\n",
       "    </tr>\n",
       "    <tr>\n",
       "      <th>1926-10</th>\n",
       "      <td>-0.0329</td>\n",
       "      <td>-0.0295</td>\n",
       "    </tr>\n",
       "    <tr>\n",
       "      <th>1926-11</th>\n",
       "      <td>-0.0055</td>\n",
       "      <td>0.0316</td>\n",
       "    </tr>\n",
       "  </tbody>\n",
       "</table>\n",
       "</div>"
      ],
      "text/plain": [
       "          Lo 20   Hi 20\n",
       "1926-07 -0.0057  0.0333\n",
       "1926-08  0.0384  0.0233\n",
       "1926-09 -0.0048 -0.0009\n",
       "1926-10 -0.0329 -0.0295\n",
       "1926-11 -0.0055  0.0316"
      ]
     },
     "execution_count": 12,
     "metadata": {},
     "output_type": "execute_result"
    }
   ],
   "source": [
    "df.head()"
   ]
  },
  {
   "cell_type": "markdown",
   "id": "0074b274",
   "metadata": {},
   "source": [
    "## Question 1, 3\n",
    "What was the Annualized Return of the portfolio over the entire period?"
   ]
  },
  {
   "cell_type": "code",
   "execution_count": 2,
   "id": "45990043",
   "metadata": {},
   "outputs": [
    {
     "ename": "NameError",
     "evalue": "name 'df' is not defined",
     "output_type": "error",
     "traceback": [
      "\u001b[0;31m---------------------------------------------------------------------------\u001b[0m",
      "\u001b[0;31mNameError\u001b[0m                                 Traceback (most recent call last)",
      "Input \u001b[0;32mIn [2]\u001b[0m, in \u001b[0;36m<cell line: 2>\u001b[0;34m()\u001b[0m\n\u001b[1;32m      1\u001b[0m \u001b[38;5;66;03m#calculating volatility and anualized volatilty\u001b[39;00m\n\u001b[0;32m----> 2\u001b[0m vol \u001b[38;5;241m=\u001b[39m \u001b[43mdf\u001b[49m\u001b[38;5;241m.\u001b[39mstd()\n\u001b[1;32m      3\u001b[0m annualized_vol \u001b[38;5;241m=\u001b[39m vol \u001b[38;5;241m*\u001b[39m np\u001b[38;5;241m.\u001b[39msqrt(\u001b[38;5;241m12\u001b[39m)\n\u001b[1;32m      5\u001b[0m \u001b[38;5;66;03m#Anualizing Retruns\u001b[39;00m\n",
      "\u001b[0;31mNameError\u001b[0m: name 'df' is not defined"
     ]
    }
   ],
   "source": [
    "#calculating volatility and anualized volatilty\n",
    "vol = df.std()\n",
    "annualized_vol = vol * np.sqrt(12)\n",
    "\n",
    "#Anualizing Retruns\n",
    "no_of_months = df.shape[0]\n",
    "total_returns = (df+1).prod() -1\n",
    "returns_per_month = (df+1).prod() ** (1/no_of_months) -1\n",
    "\n",
    "#annualized return = (returns +1).prod() ** (no_of_periods/ no_of_months) -1\n",
    "annualized_return = (df + 1).prod() ** (12/no_of_months) -1\n",
    "annualized_return"
   ]
  },
  {
   "cell_type": "markdown",
   "id": "341b1c09",
   "metadata": {},
   "source": [
    "## Question 2, 4\n",
    "What was the Annualized Volatility of the portfolio over the entire period?"
   ]
  },
  {
   "cell_type": "code",
   "execution_count": 15,
   "id": "cb2e6fee",
   "metadata": {},
   "outputs": [
    {
     "data": {
      "text/plain": [
       "Lo 20    0.336701\n",
       "Hi 20    0.195116\n",
       "dtype: float64"
      ]
     },
     "execution_count": 15,
     "metadata": {},
     "output_type": "execute_result"
    }
   ],
   "source": [
    "vol = df.std()\n",
    "annualized_vol = vol * np.sqrt(12)\n",
    "annualized_vol"
   ]
  },
  {
   "cell_type": "markdown",
   "id": "02545e7e",
   "metadata": {},
   "source": [
    "## Question 5\n",
    "What was the Annualized Return of the Lo 20 portfolio over the period 1999 - 2015 (both inclusive)? "
   ]
  },
  {
   "cell_type": "code",
   "execution_count": 8,
   "id": "bd535afc",
   "metadata": {},
   "outputs": [],
   "source": [
    "def get_ffme_returns():\n",
    "    \"\"\"\n",
    "    Load the Fama-French Dataset for the returns of the Top and Bottom Deciles by MarketCap\n",
    "    \"\"\"\n",
    "    me_m = pd.read_csv(\"data/Portfolios_Formed_on_ME_monthly_EW.csv\",\n",
    "                       header=0, index_col=0, na_values=-99.99)\n",
    "    rets = me_m[['Lo 20', 'Hi 20']]\n",
    "    rets.columns = ['SmallCap', 'LargeCap']\n",
    "    rets = rets/100\n",
    "    rets.index = pd.to_datetime(rets.index, format=\"%Y%m\").to_period('M')\n",
    "    return rets\n",
    "\n",
    "def annualize_returns(r, periods_per_year):\n",
    "    \"\"\"\n",
    "    Annualizes a set of returns\n",
    "    based on periods per year\n",
    "    \"\"\"\n",
    "    compounded_growth = (1+r).prod()\n",
    "    n_periods = r.shape[0]\n",
    "    return compounded_growth**(periods_per_year/n_periods)-1"
   ]
  },
  {
   "cell_type": "code",
   "execution_count": 12,
   "id": "03add2d6",
   "metadata": {},
   "outputs": [
    {
     "name": "stdout",
     "output_type": "stream",
     "text": [
      "0.11442634058514933\n"
     ]
    }
   ],
   "source": [
    "returns = get_ffme_returns()\n",
    "print(annualize_returns(returns.loc['1999-01':'2015-12', 'SmallCap'], 12))"
   ]
  },
  {
   "cell_type": "code",
   "execution_count": null,
   "id": "85a2fb2f",
   "metadata": {},
   "outputs": [],
   "source": []
  }
 ],
 "metadata": {
  "kernelspec": {
   "display_name": "Python 3 (ipykernel)",
   "language": "python",
   "name": "python3"
  },
  "language_info": {
   "codemirror_mode": {
    "name": "ipython",
    "version": 3
   },
   "file_extension": ".py",
   "mimetype": "text/x-python",
   "name": "python",
   "nbconvert_exporter": "python",
   "pygments_lexer": "ipython3",
   "version": "3.9.12"
  }
 },
 "nbformat": 4,
 "nbformat_minor": 5
}
